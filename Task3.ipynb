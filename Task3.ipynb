{
  "cells": [
    {
      "cell_type": "code",
      "execution_count": null,
      "metadata": {
        "colab": {
          "base_uri": "https://localhost:8080/"
        },
        "id": "f2c1dg2m-n0h",
        "outputId": "bfcf7d63-1cd6-4236-9ba5-f24c45d5f8a1"
      },
      "outputs": [
        {
          "name": "stdout",
          "output_type": "stream",
          "text": [
            "Enter first number: 3\n",
            "Enter second number: 4\n",
            "The sum of numbers : 7.0\n"
          ]
        }
      ],
      "source": [
        "# Task 1\n",
        "num1 = float (input(\"Enter first number: \"))\n",
        "num2 = float (input(\"Enter second number: \"))\n",
        "sum = num1 + num2\n",
        "print (\"The sum of numbers :\" , sum)"
      ]
    },
    {
      "cell_type": "code",
      "execution_count": null,
      "metadata": {
        "colab": {
          "base_uri": "https://localhost:8080/"
        },
        "id": "k_J5hMLw-wsp",
        "outputId": "4cba5f68-77e3-4bc6-e5b9-907f107b1431"
      },
      "outputs": [
        {
          "name": "stdout",
          "output_type": "stream",
          "text": [
            "Enter a number: 33\n",
            "odd number\n"
          ]
        }
      ],
      "source": [
        "# Task 2\n",
        "num = int (input(\"Enter a number: \"))\n",
        "if (num % 2) == 0 :\n",
        "  print (\"even number\")\n",
        "else:\n",
        "  print (\"odd number\")"
      ]
    },
    {
      "cell_type": "code",
      "execution_count": null,
      "metadata": {
        "colab": {
          "base_uri": "https://localhost:8080/"
        },
        "id": "TDh1tKvz_5oK",
        "outputId": "1d2c80bb-aa71-412e-8be9-19e64041fa29"
      },
      "outputs": [
        {
          "name": "stdout",
          "output_type": "stream",
          "text": [
            "0 2 4 6 8 10 12 14 16 18 20 "
          ]
        }
      ],
      "source": [
        "# Task 3\n",
        "for i in range (0,21,2):\n",
        "  print (i , end =\" \")"
      ]
    },
    {
      "cell_type": "code",
      "execution_count": null,
      "metadata": {
        "id": "2zZMQ9APaRxq",
        "colab": {
          "base_uri": "https://localhost:8080/"
        },
        "outputId": "56e8a4e4-5bb2-4328-996d-056d0d691e91"
      },
      "outputs": [
        {
          "output_type": "stream",
          "name": "stdout",
          "text": [
            "Enter the string :Rawan\n",
            "Total vowels are :2\n"
          ]
        }
      ],
      "source": [
        "# Task 4\n",
        "String = input(\"Enter the string :\")\n",
        "count = 0\n",
        "String = String.lower()\n",
        "for i in String:\n",
        "    if i == 'a' or i == 'e' or i == 'i' or i == 'o' or i == 'u':\n",
        "        count+=1\n",
        "if count == 0:\n",
        "    print('No vowels found')\n",
        "else:\n",
        "    print('number of vowels are :' + str(count))\n"
      ]
    },
    {
      "cell_type": "code",
      "execution_count": null,
      "metadata": {
        "colab": {
          "base_uri": "https://localhost:8080/"
        },
        "id": "OhGWd3QEBxnl",
        "outputId": "bdfbacf6-2ea7-435b-c134-39b521f8b106"
      },
      "outputs": [
        {
          "name": "stdout",
          "output_type": "stream",
          "text": [
            "1 the power of number 2\n",
            "2 the power of number 4\n",
            "3 the power of number 6\n",
            "4 the power of number 8\n",
            "5 the power of number 10\n",
            "6 the power of number 12\n",
            "7 the power of number 14\n",
            "8 the power of number 16\n",
            "9 the power of number 18\n",
            "10 the power of number 20\n"
          ]
        }
      ],
      "source": [
        "# Task 5\n",
        "list = [1,2,3,4,5,6,7,8,9,10]\n",
        "for i in list :\n",
        "      print (i , \"the power of number\" ,i*2)\n"
      ]
    },
    {
      "cell_type": "code",
      "source": [
        "# Task 6\n",
        "list_score = []\n",
        "total_score = 0\n",
        "name = input(\"enter your name : \")\n",
        "print (\"enter three names of three subjects:\")\n",
        "for score in range(3):\n",
        "    list_score.insert(score, input())\n",
        "\n",
        "print(\"enter three scores of three subjects: \")\n",
        "for score in range(3):\n",
        "    list_score.insert(score, input())\n",
        "\n",
        "    # loop for computing average test score\n",
        "for score in range(3):\n",
        "      total_score = total_score + int(list_score[score])\n",
        "      avg_grade = total_score/3\n",
        "print(\"Average marks:\", avg_grade)\n",
        "if avg_grade >= 70 :\n",
        "   print (\"Good Job\")\n",
        "else:\n",
        "   print (\"Keep pushing!\")\n"
      ],
      "metadata": {
        "colab": {
          "base_uri": "https://localhost:8080/"
        },
        "id": "6aEXMeqPHPVa",
        "outputId": "39b7525b-fe95-45f3-8f03-22d97176aea6"
      },
      "execution_count": null,
      "outputs": [
        {
          "output_type": "stream",
          "name": "stdout",
          "text": [
            "enter your name : Ali\n",
            "enter three names of three subjects:\n",
            "Arabic\n",
            "Math\n",
            "Science\n",
            "enter three scores of three subjects: \n",
            "70\n",
            "60\n",
            "80\n",
            "Average marks: 70.0\n",
            "Good Job\n"
          ]
        }
      ]
    },
    {
      "cell_type": "code",
      "execution_count": null,
      "metadata": {
        "colab": {
          "base_uri": "https://localhost:8080/"
        },
        "id": "A5nNbZj_d1vC",
        "outputId": "faa89733-bd04-4815-841b-d0068acd1211"
      },
      "outputs": [
        {
          "output_type": "stream",
          "name": "stdout",
          "text": [
            "Enter a list element separated by space 3 7 1 9 2\n",
            "Enter a list element separated by space 2 9 0 4 6\n",
            "First list is: 3 7 1 9 2\n",
            "Second list is: 2 9 0 4 6\n",
            "Intersection of the lists is: [' ', ' ', ' ', '9', ' ', '2']\n"
          ]
        }
      ],
      "source": [
        "# Task 7\n",
        "list1 =( input(\"Enter a list element separated by space \"))\n",
        "list2 =( input(\"Enter a list element separated by space \"))\n",
        "print(\"First list is:\", list1)\n",
        "print(\"Second list is:\", list2)\n",
        "newList = []\n",
        "for element in list1:\n",
        "    if element in list2:\n",
        "        newList.append(element)\n",
        "print(\"Intersection of the lists is:\", newList)"
      ]
    },
    {
      "cell_type": "code",
      "execution_count": null,
      "metadata": {
        "colab": {
          "base_uri": "https://localhost:8080/"
        },
        "id": "Vj0TJ23jaU5G",
        "outputId": "1277986f-1555-4cf4-84be-90f9bf97efa1"
      },
      "outputs": [
        {
          "name": "stdout",
          "output_type": "stream",
          "text": [
            "After using the function to remove : [1, 2, 4, 5]\n"
          ]
        }
      ],
      "source": [
        "# Task 8\n",
        "list = [1,2,3,4,5]\n",
        "list.remove(3)\n",
        "print( \"After using the function to remove :\", list )"
      ]
    },
    {
      "cell_type": "code",
      "source": [
        "# Task 9\n",
        "a = 3\n",
        "b = 4\n",
        "c = 5\n",
        "d = 6\n",
        "total = a* b* c* d\n",
        "print (total)\n",
        "print (total % 100)"
      ],
      "metadata": {
        "colab": {
          "base_uri": "https://localhost:8080/"
        },
        "id": "rnG31-udxTnK",
        "outputId": "e153150e-9060-4f4a-d184-3133bdf25ece"
      },
      "execution_count": null,
      "outputs": [
        {
          "output_type": "stream",
          "name": "stdout",
          "text": [
            "360\n",
            "60\n"
          ]
        }
      ]
    },
    {
      "cell_type": "code",
      "execution_count": null,
      "metadata": {
        "colab": {
          "base_uri": "https://localhost:8080/"
        },
        "id": "3GrKde3OdX9R",
        "outputId": "f1ca56da-89a5-455c-c645-807683f5bd05"
      },
      "outputs": [
        {
          "name": "stdout",
          "output_type": "stream",
          "text": [
            "enter a number3\n",
            "3 is a prime number\n"
          ]
        }
      ],
      "source": [
        "# Task 10\n",
        "num = int (input (\"enter a number\"))\n",
        "if num > 1:\n",
        "    for i in range(2, int(num/2)+1):\n",
        "        if (num % i) == 0:\n",
        "            print(num, \"is not a prime number\")\n",
        "            break\n",
        "    else:\n",
        "        print(num, \"is a prime number\")\n",
        "else:\n",
        "    print(num, \"is not a prime number\")"
      ]
    },
    {
      "cell_type": "code",
      "execution_count": null,
      "metadata": {
        "colab": {
          "base_uri": "https://localhost:8080/"
        },
        "id": "eJ2W6ZF0PDzR",
        "outputId": "36710d70-d9f2-4e91-da2e-96cbb0eb6ccd"
      },
      "outputs": [
        {
          "name": "stdout",
          "output_type": "stream",
          "text": [
            "exist\n"
          ]
        },
        {
          "data": {
            "text/plain": [
              "1"
            ]
          },
          "execution_count": 2,
          "metadata": {},
          "output_type": "execute_result"
        }
      ],
      "source": [
        "# Task 11\n",
        "list=[ 1, 6, 3, 5, 3, 4 ]\n",
        "x = 6\n",
        "if x in list :\n",
        "    print(\"exist\")\n",
        "else:\n",
        "    print(\"not exist\")\n",
        "list.index(x)\n",
        "\n"
      ]
    },
    {
      "cell_type": "code",
      "source": [
        "# Task 12\n",
        "list = [1 , 2 , 1 , 5]\n",
        "x = 1\n",
        "count = 0\n",
        "for element in list :\n",
        "  if (element == x):\n",
        "    count = count +1\n",
        "print (count)\n",
        "if (count % 3 == 0) :\n",
        "  print (\"lucky\")\n",
        "else :\n",
        "  print (\"Not lucky\")"
      ],
      "metadata": {
        "colab": {
          "base_uri": "https://localhost:8080/"
        },
        "id": "_iozlNnABTl8",
        "outputId": "87dc65ba-969f-4e53-854b-476a4aaf4001"
      },
      "execution_count": null,
      "outputs": [
        {
          "output_type": "stream",
          "name": "stdout",
          "text": [
            "2\n",
            "Not lucky\n"
          ]
        }
      ]
    },
    {
      "cell_type": "code",
      "execution_count": null,
      "metadata": {
        "colab": {
          "base_uri": "https://localhost:8080/"
        },
        "id": "6TX_USj8SRUs",
        "outputId": "4d2ac8cd-fbd5-420f-adc3-d5075fedb6ba"
      },
      "outputs": [
        {
          "name": "stdout",
          "output_type": "stream",
          "text": [
            "50\n",
            "10\n",
            "[10, 14, 30, 40, 50]\n"
          ]
        }
      ],
      "source": [
        "# Task 13\n",
        "# find max\n",
        "list = [50,14,30,40,10]\n",
        "max = list [0]\n",
        "n = len (list)\n",
        "for i in range (1 , n ):\n",
        "    if list [i] > max :\n",
        "       max = list[i]\n",
        "print (max)\n",
        "# find min\n",
        "list = [50,14,30,40,10]\n",
        "min = list [0]\n",
        "n = len (list)\n",
        "for i in range (1 , n ):\n",
        "    if list [i] < min :\n",
        "       min = list[i]\n",
        "print (min)\n",
        "\n",
        "# swap\n",
        "def swap (newList):\n",
        "    size = len(newList)\n",
        "    temp = newList[0]\n",
        "    newList[0] = newList[size - 1]\n",
        "    newList[size - 1] = temp\n",
        "\n",
        "    return newList\n",
        "\n",
        "newList = [50,14,30,40,10]\n",
        "\n",
        "\n",
        "print(swap(newList))"
      ]
    },
    {
      "cell_type": "code",
      "execution_count": null,
      "metadata": {
        "colab": {
          "base_uri": "https://localhost:8080/"
        },
        "id": "Mfs8erwXltVI",
        "outputId": "466af700-ed60-4306-f053-17592784a39e"
      },
      "outputs": [
        {
          "output_type": "stream",
          "name": "stdout",
          "text": [
            "15\n",
            "3\n"
          ]
        }
      ],
      "source": [
        "# Task 14\n",
        "list = [30 , 90 , 80 , 15]\n",
        "print (min (list))\n",
        "\n",
        "print(list.index(15))"
      ]
    },
    {
      "cell_type": "code",
      "execution_count": null,
      "metadata": {
        "colab": {
          "background_save": true,
          "base_uri": "https://localhost:8080/"
        },
        "id": "XjnfsK81mPaW",
        "outputId": "bd270361-3082-40d2-b5a1-b04ff874a6c7"
      },
      "outputs": [
        {
          "name": "stdout",
          "output_type": "stream",
          "text": [
            "[15, 30, 80, 90]\n"
          ]
        }
      ],
      "source": [
        "# Task 15\n",
        "list = [30 , 90 , 80 , 15]\n",
        "\n",
        "list.sort()\n",
        "print (list)"
      ]
    },
    {
      "cell_type": "code",
      "execution_count": null,
      "metadata": {
        "colab": {
          "base_uri": "https://localhost:8080/"
        },
        "id": "MGeqllMwbMg6",
        "outputId": "c442175a-f671-495e-b71c-5ad54b1d097e"
      },
      "outputs": [
        {
          "name": "stdout",
          "output_type": "stream",
          "text": [
            "String after removing all spaces : Hellopython\n"
          ]
        }
      ],
      "source": [
        "# Task 16\n",
        "str1 = \"Hello python\"\n",
        "\n",
        "str1 = str1.replace(\" \",\"\");\n",
        "\n",
        "print(\"String after removing all spaces : \" + str1)"
      ]
    },
    {
      "cell_type": "code",
      "execution_count": null,
      "metadata": {
        "colab": {
          "base_uri": "https://localhost:8080/"
        },
        "id": "sft2aPIQbf3Q",
        "outputId": "0a7ad886-d901-495c-8d10-bb7b849d6924"
      },
      "outputs": [
        {
          "name": "stdout",
          "output_type": "stream",
          "text": [
            "[24, 35, 9, 56, 12]\n"
          ]
        }
      ],
      "source": [
        "# Task 17\n",
        "def swap(newList):\n",
        "    size = len(newList)\n",
        "    temp = newList[0]\n",
        "    newList[0] = newList[size - 1]\n",
        "    newList[size - 1] = temp\n",
        "\n",
        "    return newList\n",
        "\n",
        "newList = [12, 35, 9, 56, 24]\n",
        "\n",
        "print(swap(newList))"
      ]
    },
    {
      "cell_type": "code",
      "execution_count": null,
      "metadata": {
        "colab": {
          "base_uri": "https://localhost:8080/"
        },
        "id": "Veplz6qJcvfQ",
        "outputId": "0e141178-3928-4303-94ed-fa7c4fc46cfc"
      },
      "outputs": [
        {
          "name": "stdout",
          "output_type": "stream",
          "text": [
            "{'Ahmed', 'Ali'}\n",
            "Add single element :  {'Ahmed', 'Amr', 'Ali'}\n",
            "Add multiple items :  {'Ahmed', 'Omar', 'Mohamed', 'Amr', 'Ali'}\n"
          ]
        }
      ],
      "source": [
        "# Task 18\n",
        "names = {\"Ahmed\",\"Ali\"}\n",
        "print(names)\n",
        "names.add(\"Amr\")\n",
        "print(\"Add single element : \",names)\n",
        "names.update([\"Mohamed\", \"Omar\"])\n",
        "print(\"Add multiple items : \",names)"
      ]
    },
    {
      "cell_type": "code",
      "execution_count": null,
      "metadata": {
        "colab": {
          "base_uri": "https://localhost:8080/"
        },
        "id": "Br88F5u0de3X",
        "outputId": "69495899-4a18-45f5-ca93-0f1ced17445f"
      },
      "outputs": [
        {
          "name": "stdout",
          "output_type": "stream",
          "text": [
            "Set :  {50, 20, 70, 60, 30}\n",
            "Remove item :  {50, 70, 60, 30}\n",
            "Remove Item not found {50, 70, 60, 30}\n"
          ]
        }
      ],
      "source": [
        "# Task 19\n",
        "s = {30,50,70,20,30,60}\n",
        "print(\"Set : \",s)\n",
        "s.discard(20)\n",
        "print(\"Remove item : \",s)\n",
        "s.discard(15)\n",
        "print(\"Remove Item not found\" , s)"
      ]
    },
    {
      "cell_type": "code",
      "execution_count": null,
      "metadata": {
        "colab": {
          "base_uri": "https://localhost:8080/"
        },
        "id": "b_485XPGfIox",
        "outputId": "caaccea0-8810-4a47-b377-51c25db4cab1"
      },
      "outputs": [
        {
          "name": "stdout",
          "output_type": "stream",
          "text": [
            "4\n",
            "1\n"
          ]
        }
      ],
      "source": [
        "# Task 20\n",
        "d = {1:1, 2:5, 3:15, 4:20}\n",
        "\n",
        "print(max(d))\n",
        "\n",
        "print(min(d))"
      ]
    },
    {
      "cell_type": "code",
      "execution_count": null,
      "metadata": {
        "colab": {
          "base_uri": "https://localhost:8080/"
        },
        "id": "aZhe9BINkFPL",
        "outputId": "ea66531c-9cc2-49d0-b459-7b4d24c6e835"
      },
      "outputs": [
        {
          "name": "stdout",
          "output_type": "stream",
          "text": [
            "Original Dictionary:\n",
            "{'c1': 'Red', 'c2': 'Green', 'c3': None}\n",
            "New Dictionary after dropping empty items:\n",
            "{'c1': 'Red', 'c2': 'Green'}\n"
          ]
        }
      ],
      "source": [
        "# Task 21\n",
        "dict1 = {'c1': 'Red', 'c2': 'Green', 'c3':None}\n",
        "print(\"Original Dictionary:\")\n",
        "print(dict1)\n",
        "print(\"New Dictionary after dropping empty items:\")\n",
        "dict1 = {key:value for (key, value) in dict1.items() if value is not None}\n",
        "print(dict1)"
      ]
    }
  ],
  "metadata": {
    "colab": {
      "provenance": []
    },
    "kernelspec": {
      "display_name": "Python 3",
      "name": "python3"
    },
    "language_info": {
      "name": "python"
    }
  },
  "nbformat": 4,
  "nbformat_minor": 0
}